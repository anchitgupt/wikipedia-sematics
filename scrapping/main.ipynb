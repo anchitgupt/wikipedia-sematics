{
 "cells": [
  {
   "cell_type": "code",
   "execution_count": 66,
   "metadata": {},
   "outputs": [],
   "source": [
    "import re\n",
    "import requests\n",
    "import bs4\n",
    "# import csv\n",
    "# import numpy as np\n",
    "# from scipy import spatial\n",
    "# import matplotlib.pyplot as plt\n",
    "import DataPreprocessing as p\n",
    "from tqdm import tqdm_notebook as tqdm\n",
    "import nltk\n",
    "from collections import defaultdict\n",
    "# nltk.download('punkt')\n",
    "from nltk.tokenize import sent_tokenize"
   ]
  },
  {
   "cell_type": "code",
   "execution_count": 34,
   "metadata": {},
   "outputs": [],
   "source": [
    "############################################################################################################\n",
    "############################################################################################################\n",
    "# basic url segmentation\n",
    "wiki_bPath = 'https://en.wikipedia.org'\n",
    "qtitle = 'Car' #str(input(\"Enter the Title name: \"))\n",
    "fileName = \"/wiki/\"+ qtitle\n",
    "url = wiki_bPath + fileName\n",
    "cite_num = sorted([4,5])"
   ]
  },
  {
   "cell_type": "code",
   "execution_count": 35,
   "metadata": {},
   "outputs": [],
   "source": [
    "# read the URL data\n",
    "res = requests.get(url)\n",
    "wiki = bs4.BeautifulSoup(res.text, \"lxml\")"
   ]
  },
  {
   "cell_type": "code",
   "execution_count": 36,
   "metadata": {},
   "outputs": [],
   "source": [
    "# checking if somedata is available or not\n",
    "if wiki == None:\n",
    "    print('Document reference Can\\'t be reached')\n",
    "    exit(1)"
   ]
  },
  {
   "cell_type": "code",
   "execution_count": 37,
   "metadata": {},
   "outputs": [],
   "source": [
    "# read each cite note\n",
    "citations = wiki.find_all(\"li\", {'id': re.compile(r'^cite_note')})"
   ]
  },
  {
   "cell_type": "code",
   "execution_count": 38,
   "metadata": {},
   "outputs": [],
   "source": [
    "# citations = [wiki.find_all(\"li\", {'id': re.compile(r'^cite_note\\-'+str(i)+'|cite_note\\-[a-zA-Z0-9]*\\-'+str(i)+'')}) for i in cite_num]"
   ]
  },
  {
   "cell_type": "markdown",
   "metadata": {},
   "source": [
    "### https://regex101.com/r/b1ZjYR/4"
   ]
  },
  {
   "cell_type": "code",
   "execution_count": 39,
   "metadata": {},
   "outputs": [],
   "source": [
    "# create a dictionary of citations\n",
    "\n",
    "## Stop the loop as all the elements from the cite_num are not extracted\n",
    "cite_no = 1\n",
    "i=0\n",
    "lines = {}\n",
    "for cite in citations:\n",
    "    url = []\n",
    "    for a in cite.find_all('a', href=True):\n",
    "        if a['href'].startswith('/wiki'):\n",
    "            links=wiki_bPath + a['href']\n",
    "            if len(links.split('/')[0]) < 3:\n",
    "                links = 'http:' + links\n",
    "            url.append(links)\n",
    "        elif not a['href'].startswith('#'):\n",
    "            url.append(a['href'])\n",
    "    lines[cite_no] = url\n",
    "    cite_no += 1"
   ]
  },
  {
   "cell_type": "code",
   "execution_count": 40,
   "metadata": {},
   "outputs": [],
   "source": [
    "## here all citations have been gathered.\n",
    "\n",
    "##############################################################################################################################\n",
    "##############################################################################################################################"
   ]
  },
  {
   "cell_type": "code",
   "execution_count": 97,
   "metadata": {},
   "outputs": [
    {
     "data": {
      "application/vnd.jupyter.widget-view+json": {
       "model_id": "3a6a9c33d4df432e8c7481db4f611234",
       "version_major": 2,
       "version_minor": 0
      },
      "text/plain": [
       "HBox(children=(IntProgress(value=0, max=2), HTML(value='')))"
      ]
     },
     "metadata": {},
     "output_type": "display_data"
    },
    {
     "name": "stdout",
     "output_type": "stream",
     "text": [
      "4 <Response [403]> https://cleantechnica.com/2019/08/09/ev-price-parity-coming-soon-claims-vw-executive/\n",
      "4 <Response [200]> https://en.wikipedia.org/wiki/CleanTechnica\n",
      "5 <Response [404]> https://www.britishgas.co.uk/the-source/our-world-of-energy/energys-grand-journey/Electric-v-Petrol\n",
      "\n"
     ]
    }
   ],
   "source": [
    "# check url's which are working fine:\n",
    "flines = {}\n",
    "for citen in tqdm(cite_num):\n",
    "    urls = []\n",
    "    if len(lines[citen]) != 0:\n",
    "        # iterating over url's\n",
    "        for url in lines[citen]:\n",
    "            res = requests.get(url)\n",
    "            print(citen, res, url)\n",
    "            # TODO: response is in 404 then do not add the url in the urls list \n",
    "            if res == False:\n",
    "                # TODO: handle exception\n",
    "                print('Exception')\n",
    "            wiki = bs4.BeautifulSoup(res.text, \"lxml\")\n",
    "            urls.append(wiki)\n",
    "        flines[citen]=urls"
   ]
  },
  {
   "cell_type": "code",
   "execution_count": 124,
   "metadata": {},
   "outputs": [
    {
     "data": {
      "application/vnd.jupyter.widget-view+json": {
       "model_id": "3d28d7fc90394faaabf4c2a7e3a2a4d6",
       "version_major": 2,
       "version_minor": 0
      },
      "text/plain": [
       "HBox(children=(IntProgress(value=0, max=2), HTML(value='')))"
      ]
     },
     "metadata": {},
     "output_type": "display_data"
    },
    {
     "name": "stdout",
     "output_type": "stream",
     "text": [
      "\n"
     ]
    }
   ],
   "source": [
    "dlines = {}\n",
    "# cite number\n",
    "for j in tqdm(cite_num):\n",
    "    data = []\n",
    "    # \n",
    "    for k in flines[j]:\n",
    "        data.extend(['\\n'.join([i.getText() for i in k.select('p')])])\n",
    "    dlines[j] = data"
   ]
  },
  {
   "cell_type": "code",
   "execution_count": null,
   "metadata": {},
   "outputs": [],
   "source": [
    "# TODO: make sentence vector\n"
   ]
  },
  {
   "cell_type": "code",
   "execution_count": null,
   "metadata": {},
   "outputs": [],
   "source": []
  }
 ],
 "metadata": {
  "kernelspec": {
   "display_name": "Python 3.7.4 64-bit ('base': conda)",
   "language": "python",
   "name": "python37464bitbasecondaeb459feaa67049dfa5ae0a9f8c116c5b"
  },
  "language_info": {
   "codemirror_mode": {
    "name": "ipython",
    "version": 3
   },
   "file_extension": ".py",
   "mimetype": "text/x-python",
   "name": "python",
   "nbconvert_exporter": "python",
   "pygments_lexer": "ipython3",
   "version": "3.7.4"
  }
 },
 "nbformat": 4,
 "nbformat_minor": 2
}
